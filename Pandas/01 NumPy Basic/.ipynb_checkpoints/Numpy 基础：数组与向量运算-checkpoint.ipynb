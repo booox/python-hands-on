{
 "cells": [
  {
   "cell_type": "code",
   "execution_count": 62,
   "id": "b72a4656",
   "metadata": {},
   "outputs": [],
   "source": [
    "# 支持多行\n",
    "from IPython.core.interactiveshell import InteractiveShell\n",
    "InteractiveShell.ast_node_interactivity = \"all\"\n",
    "\n",
    "import numpy as np"
   ]
  },
  {
   "cell_type": "markdown",
   "id": "62d618f5",
   "metadata": {},
   "source": [
    "## NumPy 是什么？"
   ]
  },
  {
   "cell_type": "markdown",
   "id": "2c8d2204",
   "metadata": {},
   "source": [
    "**NumPy**, short for **Numerical Python**, is one of the most important foundational packages for numerical computing in Python. \n",
    "\n",
    "大多数计算包都提供了基于NumPy的科学函数功能，将NumPy的数组对象作为数据交换的通用语。\n",
    "\n",
    "以下内容将会出现在NumPy中：\n",
    "* ndarray，一种高效多维数组，提供了基于数组的便捷算术操作以及灵活的广播功能。\n",
    "* 对所有数据进行快速的矩阵计算，而无须编写循环程序。\n",
    "* 对硬盘中数组数据进行读写的工具，并对内存映射文件进行操作。\n",
    "* 线性代数、随机数生成以及傅里叶变换功能。\n",
    "* 用于连接NumPy到C、C++和FORTRAN语言类库的C语言API。"
   ]
  },
  {
   "cell_type": "markdown",
   "id": "dd9c5d47",
   "metadata": {},
   "source": [
    "NumPy本身并不提供建模和科学函数，理解NumPy的数组以及基于数组的计算将帮助你更高效地使用基于数组的工具，比如 Pandas。\n",
    "\n",
    "对于大多数的数据分析应用，我主要关注的内容为：\n",
    "* 在数据处理、清洗、构造子集、过滤、变换以及其他计算中进行快速的 **向量化计算**。\n",
    "* 常见的数组算法，比sort、unique以及set操作等。\n",
    "* 高效的描述性统计和聚合/概述数据。\n",
    "* 数据排列和相关数据操作，例如对异构数据进行merge和join。\n",
    "* 使用数组表达式来表明条件逻辑，代替if-elif-else条件分支的循环。\n",
    "* 分组数据的操作（聚合、变换以及函数式操作）。"
   ]
  },
  {
   "cell_type": "markdown",
   "id": "4c62208d",
   "metadata": {},
   "source": [
    "下面的例子将展现NumPy的不同，假设一个NumPy数组包含100万个整数，还有一个同样数据内容的Python列表："
   ]
  },
  {
   "cell_type": "code",
   "execution_count": 3,
   "id": "483b1b7e",
   "metadata": {},
   "outputs": [],
   "source": [
    "import numpy as np\n",
    "import pandas as pd"
   ]
  },
  {
   "cell_type": "code",
   "execution_count": 4,
   "id": "e94680ec",
   "metadata": {},
   "outputs": [],
   "source": [
    "xs = [x for x in range(1000000)]"
   ]
  },
  {
   "cell_type": "code",
   "execution_count": 34,
   "id": "fb7ddbd7",
   "metadata": {},
   "outputs": [
    {
     "data": {
      "text/plain": [
       "(array([0, 1, 2, 3, 4]), numpy.ndarray)"
      ]
     },
     "execution_count": 34,
     "metadata": {},
     "output_type": "execute_result"
    }
   ],
   "source": [
    "arr = np.arange(5)\n",
    "arr, type(arr)\n"
   ]
  },
  {
   "cell_type": "code",
   "execution_count": 7,
   "id": "148319b1",
   "metadata": {},
   "outputs": [
    {
     "data": {
      "text/plain": [
       "array([0, 1, 2, 3, 4, 5, 6, 7, 8, 9])"
      ]
     },
     "execution_count": 7,
     "metadata": {},
     "output_type": "execute_result"
    }
   ],
   "source": [
    "np.arange(10)"
   ]
  },
  {
   "cell_type": "code",
   "execution_count": 9,
   "id": "198b6cb2",
   "metadata": {},
   "outputs": [],
   "source": [
    "arr1 = np.arange(20)\n",
    "lst1 = list(range(20))"
   ]
  },
  {
   "cell_type": "code",
   "execution_count": 10,
   "id": "93d89dd6",
   "metadata": {},
   "outputs": [
    {
     "data": {
      "text/plain": [
       "array([ 0,  1,  2,  3,  4,  5,  6,  7,  8,  9, 10, 11, 12, 13, 14, 15, 16,\n",
       "       17, 18, 19])"
      ]
     },
     "execution_count": 10,
     "metadata": {},
     "output_type": "execute_result"
    }
   ],
   "source": [
    "arr1"
   ]
  },
  {
   "cell_type": "code",
   "execution_count": 12,
   "id": "138317e8",
   "metadata": {},
   "outputs": [
    {
     "data": {
      "text/plain": [
       "[0, 2, 4, 6, 8, 10, 12, 14, 16, 18, 20, 22, 24, 26, 28, 30, 32, 34, 36, 38]"
      ]
     },
     "execution_count": 12,
     "metadata": {},
     "output_type": "execute_result"
    }
   ],
   "source": [
    "lst2 = [x * 2 for x in lst1]\n",
    "lst2"
   ]
  },
  {
   "cell_type": "code",
   "execution_count": 13,
   "id": "776be927",
   "metadata": {},
   "outputs": [
    {
     "data": {
      "text/plain": [
       "[0, 2, 4, 6, 8, 10, 12, 14, 16, 18, 20, 22, 24, 26, 28, 30, 32, 34, 36, 38]"
      ]
     },
     "execution_count": 13,
     "metadata": {},
     "output_type": "execute_result"
    }
   ],
   "source": [
    "lst2 = [x * 2 for x in arr1]\n",
    "lst2"
   ]
  },
  {
   "cell_type": "code",
   "execution_count": 18,
   "id": "8df3fe0b",
   "metadata": {},
   "outputs": [
    {
     "data": {
      "text/plain": [
       "[1, 2, 3, 1, 2, 3]"
      ]
     },
     "execution_count": 18,
     "metadata": {},
     "output_type": "execute_result"
    }
   ],
   "source": [
    "[1, 2, 3] * 2"
   ]
  },
  {
   "cell_type": "code",
   "execution_count": 17,
   "id": "bfa23afd",
   "metadata": {
    "collapsed": true
   },
   "outputs": [
    {
     "data": {
      "text/plain": [
       "[0,\n",
       " 2,\n",
       " 4,\n",
       " 6,\n",
       " 8,\n",
       " 10,\n",
       " 12,\n",
       " 14,\n",
       " 16,\n",
       " 18,\n",
       " 20,\n",
       " 22,\n",
       " 24,\n",
       " 26,\n",
       " 28,\n",
       " 30,\n",
       " 32,\n",
       " 34,\n",
       " 36,\n",
       " 38,\n",
       " 0,\n",
       " 2,\n",
       " 4,\n",
       " 6,\n",
       " 8,\n",
       " 10,\n",
       " 12,\n",
       " 14,\n",
       " 16,\n",
       " 18,\n",
       " 20,\n",
       " 22,\n",
       " 24,\n",
       " 26,\n",
       " 28,\n",
       " 30,\n",
       " 32,\n",
       " 34,\n",
       " 36,\n",
       " 38]"
      ]
     },
     "execution_count": 17,
     "metadata": {},
     "output_type": "execute_result"
    }
   ],
   "source": [
    "lst2 * 2\n"
   ]
  },
  {
   "cell_type": "code",
   "execution_count": 14,
   "id": "dc7e1ff5",
   "metadata": {},
   "outputs": [
    {
     "data": {
      "text/plain": [
       "0"
      ]
     },
     "execution_count": 14,
     "metadata": {},
     "output_type": "execute_result"
    }
   ],
   "source": [
    "arr1[0]"
   ]
  },
  {
   "cell_type": "code",
   "execution_count": 26,
   "id": "85b8b983",
   "metadata": {},
   "outputs": [],
   "source": [
    "arr2 = my_arr * 2"
   ]
  },
  {
   "cell_type": "code",
   "execution_count": 30,
   "id": "60244c4d",
   "metadata": {},
   "outputs": [
    {
     "name": "stdout",
     "output_type": "stream",
     "text": [
      "1.83 ms ± 54.1 µs per loop (mean ± std. dev. of 7 runs, 1000 loops each)\n"
     ]
    }
   ],
   "source": [
    "%%timeit\n",
    "arr2 = my_arr * 2"
   ]
  },
  {
   "cell_type": "code",
   "execution_count": 32,
   "id": "c0769bf4",
   "metadata": {},
   "outputs": [
    {
     "name": "stdout",
     "output_type": "stream",
     "text": [
      "99.3 ms ± 3.94 ms per loop (mean ± std. dev. of 7 runs, 10 loops each)\n"
     ]
    }
   ],
   "source": [
    "%%timeit\n",
    "my_list2 = [x * 2 for x in my_list]"
   ]
  },
  {
   "cell_type": "code",
   "execution_count": 28,
   "id": "57285262",
   "metadata": {},
   "outputs": [],
   "source": [
    "del arr2"
   ]
  },
  {
   "cell_type": "code",
   "execution_count": 22,
   "id": "4996e760",
   "metadata": {},
   "outputs": [
    {
     "ename": "NameError",
     "evalue": "name 'arr2' is not defined",
     "output_type": "error",
     "traceback": [
      "\u001b[1;31m---------------------------------------------------------------------------\u001b[0m",
      "\u001b[1;31mNameError\u001b[0m                                 Traceback (most recent call last)",
      "\u001b[1;32m~\\AppData\\Local\\Temp\\ipykernel_21088\\2862982358.py\u001b[0m in \u001b[0;36m<module>\u001b[1;34m\u001b[0m\n\u001b[1;32m----> 1\u001b[1;33m \u001b[0marr2\u001b[0m\u001b[1;33m[\u001b[0m\u001b[1;33m:\u001b[0m\u001b[1;36m10\u001b[0m\u001b[1;33m]\u001b[0m\u001b[1;33m\u001b[0m\u001b[1;33m\u001b[0m\u001b[0m\n\u001b[0m",
      "\u001b[1;31mNameError\u001b[0m: name 'arr2' is not defined"
     ]
    }
   ],
   "source": [
    "arr2[:10]"
   ]
  },
  {
   "cell_type": "code",
   "execution_count": null,
   "id": "1f6e98bf",
   "metadata": {},
   "outputs": [],
   "source": []
  },
  {
   "cell_type": "code",
   "execution_count": null,
   "id": "a88b4226",
   "metadata": {},
   "outputs": [],
   "source": []
  },
  {
   "cell_type": "code",
   "execution_count": 15,
   "id": "55e20a7e",
   "metadata": {},
   "outputs": [],
   "source": [
    "import numpy as np\n",
    "\n",
    "my_arr = np.arange(1000000)\n",
    "my_list = list(range(1000000))"
   ]
  },
  {
   "cell_type": "markdown",
   "id": "e941c4ab",
   "metadata": {},
   "source": [
    "同时对每个序列乘以 2"
   ]
  },
  {
   "cell_type": "code",
   "execution_count": 2,
   "id": "865c7d37",
   "metadata": {},
   "outputs": [
    {
     "name": "stdout",
     "output_type": "stream",
     "text": [
      "1.5 ms ± 19.2 µs per loop (mean ± std. dev. of 7 runs, 1000 loops each)\n"
     ]
    }
   ],
   "source": [
    "%%timeit\n",
    "arr2 = my_arr * 2"
   ]
  },
  {
   "cell_type": "code",
   "execution_count": 3,
   "id": "eda68aaa",
   "metadata": {},
   "outputs": [
    {
     "name": "stdout",
     "output_type": "stream",
     "text": [
      "92.2 ms ± 8.28 ms per loop (mean ± std. dev. of 7 runs, 10 loops each)\n"
     ]
    }
   ],
   "source": [
    "%%timeit\n",
    "my_list2 = [x * 2 for x in my_list]"
   ]
  },
  {
   "cell_type": "markdown",
   "id": "8145643a",
   "metadata": {},
   "source": [
    "**NumPy的方法比Python方法要快10到100倍，并且使用的内存也更少。**"
   ]
  },
  {
   "cell_type": "markdown",
   "id": "b37113b5",
   "metadata": {},
   "source": [
    "## NumPy ndarray：多维数组对象"
   ]
  },
  {
   "cell_type": "markdown",
   "id": "8eeefde4",
   "metadata": {},
   "source": [
    "NumPy的核心特征之一就是N-维数组对象——**ndarray**。\n",
    "\n",
    "ndarray是Python中一个快速、灵活的大型数据集容器。数组允许你使用类似于标量的操作语法在整块数据上进行数学计算。"
   ]
  },
  {
   "cell_type": "markdown",
   "id": "e1b29393",
   "metadata": {},
   "source": [
    "为了让你感受下NumPy如何使用类似于Python内建对象的标量计算语法进行批量计算\n",
    "\n",
    "首先导入NumPy，再生成一个小的随机数组："
   ]
  },
  {
   "cell_type": "code",
   "execution_count": 4,
   "id": "bdcf4e45",
   "metadata": {},
   "outputs": [
    {
     "data": {
      "text/plain": [
       "array([[-0.62428447,  0.08619091,  0.74906514],\n",
       "       [-0.65338153,  0.53546934, -0.48376581]])"
      ]
     },
     "execution_count": 4,
     "metadata": {},
     "output_type": "execute_result"
    }
   ],
   "source": [
    "# 生成随机数组\n",
    "arr = np.random.randn(2, 3)  # 2 行， 3 列\n",
    "arr"
   ]
  },
  {
   "cell_type": "code",
   "execution_count": 6,
   "id": "69c84447",
   "metadata": {},
   "outputs": [
    {
     "data": {
      "text/plain": [
       "array([[-0.92997997, 11.58627577,  6.78302286],\n",
       "       [-3.91386111,  2.65958952, 19.09439078]])"
      ]
     },
     "execution_count": 6,
     "metadata": {},
     "output_type": "execute_result"
    }
   ],
   "source": [
    "# 所有的元素都同时乘以了10\n",
    "arr * 10"
   ]
  },
  {
   "cell_type": "code",
   "execution_count": 7,
   "id": "dc0a1696",
   "metadata": {},
   "outputs": [
    {
     "data": {
      "text/plain": [
       "array([[-0.18599599,  2.31725515,  1.35660457],\n",
       "       [-0.78277222,  0.5319179 ,  3.81887816]])"
      ]
     },
     "execution_count": 7,
     "metadata": {},
     "output_type": "execute_result"
    }
   ],
   "source": [
    "# 对应元素进行了相加\n",
    "arr + arr"
   ]
  },
  {
   "cell_type": "markdown",
   "id": "49228f43",
   "metadata": {},
   "source": [
    "一个 **ndarray** 是一个通用的 **多维同类数据容器**，也就是说，**它包含的每一个元素均为相同类型**。\n",
    "\n",
    "有几个常用的属性：\n",
    "\n",
    "* `shape`：用来表征数组每一维度的数量\n",
    "* `dtype`：用来描述数组的数据类型\n",
    "* `strides`：查看遍历数组时要在每个维度中步进的字节数"
   ]
  },
  {
   "cell_type": "code",
   "execution_count": 8,
   "id": "6eb562f8",
   "metadata": {},
   "outputs": [
    {
     "data": {
      "text/plain": [
       "(2, 3)"
      ]
     },
     "execution_count": 8,
     "metadata": {},
     "output_type": "execute_result"
    }
   ],
   "source": [
    "# 查看数组维度数量\n",
    "arr.shape"
   ]
  },
  {
   "cell_type": "code",
   "execution_count": 9,
   "id": "f6e98c05",
   "metadata": {},
   "outputs": [
    {
     "data": {
      "text/plain": [
       "dtype('float64')"
      ]
     },
     "execution_count": 9,
     "metadata": {},
     "output_type": "execute_result"
    }
   ],
   "source": [
    "# 查看数组的数据类型\n",
    "arr.dtype"
   ]
  },
  {
   "cell_type": "code",
   "execution_count": 8,
   "id": "c4ab43c5",
   "metadata": {},
   "outputs": [
    {
     "data": {
      "text/plain": [
       "array([[-0.62428447,  0.08619091,  0.74906514],\n",
       "       [-0.65338153,  0.53546934, -0.48376581]])"
      ]
     },
     "execution_count": 8,
     "metadata": {},
     "output_type": "execute_result"
    },
    {
     "data": {
      "text/plain": [
       "(24, 8)"
      ]
     },
     "execution_count": 8,
     "metadata": {},
     "output_type": "execute_result"
    }
   ],
   "source": [
    "# 查看遍历数组时要在每个维度中步进的字节数\n",
    "arr\n",
    "arr.strides\n",
    "\n",
    "# 数据类型为 64 位，浮点数，每个数据占 8 个字节\n",
    "# 数组 arr 中的数据在内存中一个接着一个，共占用 48 个字节\n",
    "# 从 strides 得知：\n",
    "# 要跳到下一行的相同位置，则需要走过 `24` 个字节；而在同一行中，跳到下一个位置，则需要走过 8 个字节"
   ]
  },
  {
   "cell_type": "code",
   "execution_count": null,
   "id": "fc31ba44",
   "metadata": {},
   "outputs": [],
   "source": []
  },
  {
   "cell_type": "markdown",
   "id": "6c2ef1d6",
   "metadata": {},
   "source": [
    "### 生成ndarray"
   ]
  },
  {
   "cell_type": "markdown",
   "id": "f64c45dd",
   "metadata": {},
   "source": [
    "#### `np.array()`"
   ]
  },
  {
   "cell_type": "markdown",
   "id": "a339e20e",
   "metadata": {},
   "source": [
    "* 生成数组最简单的方式就是使用 `array` 函数。\n",
    "\n",
    "array函数接收任意的序列型对象（当然也包括其他的数组），生成一个新的包含传递数据的NumPy数组。\n",
    "\n",
    "例如，列表的转换就是一个好例子："
   ]
  },
  {
   "cell_type": "code",
   "execution_count": 10,
   "id": "2432f9d2",
   "metadata": {},
   "outputs": [
    {
     "data": {
      "text/plain": [
       "array([1. , 3. , 4.5, 7. , 0. ])"
      ]
     },
     "execution_count": 10,
     "metadata": {},
     "output_type": "execute_result"
    }
   ],
   "source": [
    "# Python 列表\n",
    "xs = [1, 3, 4.5, 7, 0]\n",
    "\n",
    "# 转为 NumPy 数组\n",
    "arr = np.array(xs)\n",
    "arr"
   ]
  },
  {
   "cell_type": "code",
   "execution_count": 58,
   "id": "d1afa3e5",
   "metadata": {},
   "outputs": [
    {
     "data": {
      "text/plain": [
       "array(['1', '3', '3.5', 'abc'], dtype='<U32')"
      ]
     },
     "execution_count": 58,
     "metadata": {},
     "output_type": "execute_result"
    }
   ],
   "source": [
    "np.array([1, 3, 3.5, 'abc'])"
   ]
  },
  {
   "cell_type": "code",
   "execution_count": 63,
   "id": "2fc52fc8",
   "metadata": {},
   "outputs": [
    {
     "data": {
      "text/plain": [
       "1"
      ]
     },
     "execution_count": 63,
     "metadata": {},
     "output_type": "execute_result"
    },
    {
     "data": {
      "text/plain": [
       "(3,)"
      ]
     },
     "execution_count": 63,
     "metadata": {},
     "output_type": "execute_result"
    }
   ],
   "source": [
    "arr1 = np.array([0,2.3, 'a'])\n",
    "arr1.ndim\n",
    "arr1.shape"
   ]
  },
  {
   "cell_type": "code",
   "execution_count": 69,
   "id": "7c2a2da6",
   "metadata": {},
   "outputs": [
    {
     "data": {
      "text/plain": [
       "2"
      ]
     },
     "execution_count": 69,
     "metadata": {},
     "output_type": "execute_result"
    },
    {
     "data": {
      "text/plain": [
       "(2, 4)"
      ]
     },
     "execution_count": 69,
     "metadata": {},
     "output_type": "execute_result"
    }
   ],
   "source": [
    "arr1 = np.array([[0,8, 2, 5], [1, 2, 3, 4]], dtype=np.int32)\n",
    "arr1.ndim\n",
    "arr1.shape"
   ]
  },
  {
   "cell_type": "markdown",
   "id": "35850e4e",
   "metadata": {},
   "source": [
    "嵌套序列，例如同等长度的列表，将会自动转换成多维数组"
   ]
  },
  {
   "cell_type": "code",
   "execution_count": 11,
   "id": "dae62119",
   "metadata": {},
   "outputs": [
    {
     "data": {
      "text/plain": [
       "array([[1, 2, 3, 4],\n",
       "       [5, 6, 7, 8]])"
      ]
     },
     "execution_count": 11,
     "metadata": {},
     "output_type": "execute_result"
    }
   ],
   "source": [
    "xs2 = [[1, 2, 3, 4], [5, 6, 7, 8]]\n",
    "\n",
    "arr2 = np.array(xs2)\n",
    "arr2"
   ]
  },
  {
   "cell_type": "markdown",
   "id": "cb3db97f",
   "metadata": {},
   "source": [
    "因为传入的是一个包含列表的列表，所以Numpy数组arr2形成了二维数组。\n",
    "\n",
    "我们可以通过检查 `ndim` 和 `shape` 属性来确认这一点"
   ]
  },
  {
   "cell_type": "code",
   "execution_count": 13,
   "id": "26894c93",
   "metadata": {},
   "outputs": [
    {
     "data": {
      "text/plain": [
       "2"
      ]
     },
     "execution_count": 13,
     "metadata": {},
     "output_type": "execute_result"
    },
    {
     "data": {
      "text/plain": [
       "(2, 4)"
      ]
     },
     "execution_count": 13,
     "metadata": {},
     "output_type": "execute_result"
    }
   ],
   "source": [
    "arr2.ndim\n",
    "arr2.shape"
   ]
  },
  {
   "cell_type": "markdown",
   "id": "f5629ee2",
   "metadata": {},
   "source": [
    "#### `np.ones()`, `np.zeros()`\n",
    "* 还可以使用其它函数来创建数组"
   ]
  },
  {
   "cell_type": "code",
   "execution_count": 14,
   "id": "6923f277",
   "metadata": {},
   "outputs": [
    {
     "data": {
      "text/plain": [
       "array([1., 1., 1., 1., 1., 1., 1., 1., 1., 1.])"
      ]
     },
     "execution_count": 14,
     "metadata": {},
     "output_type": "execute_result"
    }
   ],
   "source": [
    "np.ones(10)"
   ]
  },
  {
   "cell_type": "code",
   "execution_count": 70,
   "id": "1b2be5d4",
   "metadata": {},
   "outputs": [
    {
     "data": {
      "text/plain": [
       "array([1., 1., 1., 1., 1., 1., 1., 1., 1., 1.])"
      ]
     },
     "execution_count": 70,
     "metadata": {},
     "output_type": "execute_result"
    }
   ],
   "source": [
    "np.ones(10)"
   ]
  },
  {
   "cell_type": "code",
   "execution_count": 73,
   "id": "f4d6b011",
   "metadata": {},
   "outputs": [],
   "source": [
    "arr = np.ones(10) + 1\n",
    "arr "
   ]
  },
  {
   "cell_type": "code",
   "execution_count": 74,
   "id": "2f3b31de",
   "metadata": {},
   "outputs": [
    {
     "data": {
      "text/plain": [
       "array([2., 2., 2., 2., 2., 2., 2., 2., 2., 2.])"
      ]
     },
     "execution_count": 74,
     "metadata": {},
     "output_type": "execute_result"
    }
   ],
   "source": [
    "arr"
   ]
  },
  {
   "cell_type": "code",
   "execution_count": 71,
   "id": "9f3d0aec",
   "metadata": {},
   "outputs": [
    {
     "ename": "AttributeError",
     "evalue": "module 'numpy' has no attribute 'twoes'",
     "output_type": "error",
     "traceback": [
      "\u001b[1;31m---------------------------------------------------------------------------\u001b[0m",
      "\u001b[1;31mAttributeError\u001b[0m                            Traceback (most recent call last)",
      "\u001b[1;32m~\\AppData\\Local\\Temp\\ipykernel_21088\\1641481496.py\u001b[0m in \u001b[0;36m<module>\u001b[1;34m\u001b[0m\n\u001b[1;32m----> 1\u001b[1;33m \u001b[0mnp\u001b[0m\u001b[1;33m.\u001b[0m\u001b[0mtwoes\u001b[0m\u001b[1;33m(\u001b[0m\u001b[1;36m10\u001b[0m\u001b[1;33m)\u001b[0m\u001b[1;33m\u001b[0m\u001b[1;33m\u001b[0m\u001b[0m\n\u001b[0m",
      "\u001b[1;32mD:\\ProgramData\\Anaconda3\\envs\\competion\\lib\\site-packages\\numpy\\__init__.py\u001b[0m in \u001b[0;36m__getattr__\u001b[1;34m(attr)\u001b[0m\n\u001b[0;32m    213\u001b[0m             \u001b[1;32melse\u001b[0m\u001b[1;33m:\u001b[0m\u001b[1;33m\u001b[0m\u001b[1;33m\u001b[0m\u001b[0m\n\u001b[0;32m    214\u001b[0m                 raise AttributeError(\"module {!r} has no attribute \"\n\u001b[1;32m--> 215\u001b[1;33m                                      \"{!r}\".format(__name__, attr))\n\u001b[0m\u001b[0;32m    216\u001b[0m \u001b[1;33m\u001b[0m\u001b[0m\n\u001b[0;32m    217\u001b[0m         \u001b[1;32mdef\u001b[0m \u001b[0m__dir__\u001b[0m\u001b[1;33m(\u001b[0m\u001b[1;33m)\u001b[0m\u001b[1;33m:\u001b[0m\u001b[1;33m\u001b[0m\u001b[1;33m\u001b[0m\u001b[0m\n",
      "\u001b[1;31mAttributeError\u001b[0m: module 'numpy' has no attribute 'twoes'"
     ]
    }
   ],
   "source": [
    "np.twoes(10)"
   ]
  },
  {
   "cell_type": "code",
   "execution_count": 15,
   "id": "a330fff7",
   "metadata": {},
   "outputs": [
    {
     "data": {
      "text/plain": [
       "array([[0., 0., 0., 0.],\n",
       "       [0., 0., 0., 0.],\n",
       "       [0., 0., 0., 0.]])"
      ]
     },
     "execution_count": 15,
     "metadata": {},
     "output_type": "execute_result"
    }
   ],
   "source": [
    "np.zeros((3, 4))"
   ]
  },
  {
   "cell_type": "code",
   "execution_count": 72,
   "id": "9d31dc3c",
   "metadata": {},
   "outputs": [
    {
     "data": {
      "text/plain": [
       "array([[0., 0., 0., 0.],\n",
       "       [0., 0., 0., 0.],\n",
       "       [0., 0., 0., 0.]])"
      ]
     },
     "execution_count": 72,
     "metadata": {},
     "output_type": "execute_result"
    }
   ],
   "source": [
    "np.zeros((3, 4))"
   ]
  },
  {
   "cell_type": "markdown",
   "id": "9692bd11",
   "metadata": {},
   "source": [
    "#### `np.arange()`\n",
    "\n",
    "`arange` 是 NumPy 中的 `range`，也即 Python内建函数 `range` 的数组版"
   ]
  },
  {
   "cell_type": "code",
   "execution_count": 16,
   "id": "8eff3a73",
   "metadata": {},
   "outputs": [
    {
     "data": {
      "text/plain": [
       "array([0, 1, 2, 3, 4, 5, 6, 7, 8, 9])"
      ]
     },
     "execution_count": 16,
     "metadata": {},
     "output_type": "execute_result"
    }
   ],
   "source": [
    "np.arange(10)"
   ]
  },
  {
   "cell_type": "markdown",
   "id": "0207ae3d",
   "metadata": {},
   "source": [
    "### ndarray的数据类型"
   ]
  },
  {
   "cell_type": "markdown",
   "id": "f4a62e74",
   "metadata": {},
   "source": [
    "数据类型，即dytpe，是一个特殊的对象，它包含了ndarray需要为某一种类型数据所申明的内存块信息（也称为元数据，即表示数据的数据）\n",
    "\n",
    "数据的dtype通常都是按照一个方式命名：类型名，比如float和int，后面再接上表明每个元素位数的数字。\n",
    "\n",
    "例如：一个标准的双精度浮点值（Python中数据类型为float），将使用8字节或64位。因此，这个类型在NumPy中称为float64。"
   ]
  },
  {
   "cell_type": "code",
   "execution_count": 17,
   "id": "4816974c",
   "metadata": {},
   "outputs": [
    {
     "data": {
      "text/plain": [
       "dtype('float64')"
      ]
     },
     "execution_count": 17,
     "metadata": {},
     "output_type": "execute_result"
    },
    {
     "data": {
      "text/plain": [
       "dtype('int32')"
      ]
     },
     "execution_count": 17,
     "metadata": {},
     "output_type": "execute_result"
    }
   ],
   "source": [
    "arr1 = np.array([1, 2, 3], dtype=np.float64)\n",
    "arr2 = np.array([1, 2, 3], dtype=np.int32)\n",
    "arr1.dtype\n",
    "arr2.dtype"
   ]
  },
  {
   "cell_type": "code",
   "execution_count": 35,
   "id": "58af0023",
   "metadata": {},
   "outputs": [
    {
     "data": {
      "text/plain": [
       "(array([1, 2, 3]), dtype('int32'), numpy.ndarray)"
      ]
     },
     "execution_count": 35,
     "metadata": {},
     "output_type": "execute_result"
    }
   ],
   "source": [
    "arr1 = np.array([1, 2, 3])\n",
    "arr1, arr1.dtype, type(arr1)"
   ]
  },
  {
   "cell_type": "code",
   "execution_count": 37,
   "id": "efa6fbb9",
   "metadata": {},
   "outputs": [
    {
     "data": {
      "text/plain": [
       "(array([1., 2., 3.]), dtype('float64'), numpy.ndarray)"
      ]
     },
     "execution_count": 37,
     "metadata": {},
     "output_type": "execute_result"
    }
   ],
   "source": [
    "arr1 = np.array([1, 2, 3], dtype=np.float64)\n",
    "arr1, arr1.dtype, type(arr1)"
   ]
  },
  {
   "cell_type": "code",
   "execution_count": 38,
   "id": "fcb288dc",
   "metadata": {},
   "outputs": [],
   "source": [
    "arr2 = arr1.astype('int32')\n"
   ]
  },
  {
   "cell_type": "code",
   "execution_count": 39,
   "id": "a71afcc1",
   "metadata": {},
   "outputs": [
    {
     "data": {
      "text/plain": [
       "(array([1, 2, 3]), dtype('int32'), numpy.ndarray)"
      ]
     },
     "execution_count": 39,
     "metadata": {},
     "output_type": "execute_result"
    }
   ],
   "source": [
    "arr2, arr2.dtype, type(arr2)"
   ]
  },
  {
   "cell_type": "markdown",
   "id": "157443e4",
   "metadata": {},
   "source": [
    "可以使用 `astype` 方法显式地转换数组的数据类型"
   ]
  },
  {
   "cell_type": "code",
   "execution_count": 18,
   "id": "7d116c70",
   "metadata": {},
   "outputs": [
    {
     "data": {
      "text/plain": [
       "array([1., 2., 3.])"
      ]
     },
     "execution_count": 18,
     "metadata": {},
     "output_type": "execute_result"
    },
    {
     "data": {
      "text/plain": [
       "dtype('float64')"
      ]
     },
     "execution_count": 18,
     "metadata": {},
     "output_type": "execute_result"
    }
   ],
   "source": [
    "float_arr2 = arr2.astype('float64')\n",
    "float_arr2\n",
    "float_arr2.dtype"
   ]
  },
  {
   "cell_type": "code",
   "execution_count": null,
   "id": "e5b88823",
   "metadata": {},
   "outputs": [],
   "source": []
  },
  {
   "cell_type": "markdown",
   "id": "7a5a8458",
   "metadata": {},
   "source": [
    "### NumPy数组算术"
   ]
  },
  {
   "cell_type": "markdown",
   "id": "3f8fba32",
   "metadata": {},
   "source": [
    "数组之所以重要是因为它允许你进行 **批量操作** 而无须任何for循环。\n",
    "\n",
    "NumPy用户称这种特性为 **向量化**。\n",
    "\n",
    "任何在两个等尺寸数组之间的算术操作都应用了逐元素操作的方式"
   ]
  },
  {
   "cell_type": "code",
   "execution_count": 54,
   "id": "c2fb8e0c",
   "metadata": {},
   "outputs": [
    {
     "data": {
      "text/plain": [
       "array([[1., 2., 3.],\n",
       "       [4., 5., 6.]])"
      ]
     },
     "execution_count": 54,
     "metadata": {},
     "output_type": "execute_result"
    }
   ],
   "source": [
    "arr = np.array([[1., 2., 3.], [4., 5., 6.]])\n",
    "arr"
   ]
  },
  {
   "cell_type": "code",
   "execution_count": 42,
   "id": "2f871f77",
   "metadata": {},
   "outputs": [
    {
     "data": {
      "text/plain": [
       "array([[ 2.,  4.,  6.],\n",
       "       [ 8., 10., 12.]])"
      ]
     },
     "execution_count": 42,
     "metadata": {},
     "output_type": "execute_result"
    }
   ],
   "source": [
    "arr + arr\n"
   ]
  },
  {
   "cell_type": "code",
   "execution_count": 43,
   "id": "22ff5fc1",
   "metadata": {},
   "outputs": [
    {
     "data": {
      "text/plain": [
       "array([[0., 0., 0.],\n",
       "       [0., 0., 0.]])"
      ]
     },
     "execution_count": 43,
     "metadata": {},
     "output_type": "execute_result"
    }
   ],
   "source": [
    "arr - arr"
   ]
  },
  {
   "cell_type": "code",
   "execution_count": 44,
   "id": "f67a895d",
   "metadata": {},
   "outputs": [
    {
     "data": {
      "text/plain": [
       "array([[ 1.,  4.,  9.],\n",
       "       [16., 25., 36.]])"
      ]
     },
     "execution_count": 44,
     "metadata": {},
     "output_type": "execute_result"
    }
   ],
   "source": [
    "arr * arr"
   ]
  },
  {
   "cell_type": "code",
   "execution_count": 45,
   "id": "fcf1fa59",
   "metadata": {},
   "outputs": [
    {
     "data": {
      "text/plain": [
       "array([[1., 1., 1.],\n",
       "       [1., 1., 1.]])"
      ]
     },
     "execution_count": 45,
     "metadata": {},
     "output_type": "execute_result"
    }
   ],
   "source": [
    "arr / arr"
   ]
  },
  {
   "cell_type": "code",
   "execution_count": 46,
   "id": "37179b55",
   "metadata": {},
   "outputs": [
    {
     "data": {
      "text/plain": [
       "array([[1.0000e+00, 4.0000e+00, 2.7000e+01],\n",
       "       [2.5600e+02, 3.1250e+03, 4.6656e+04]])"
      ]
     },
     "execution_count": 46,
     "metadata": {},
     "output_type": "execute_result"
    }
   ],
   "source": [
    "arr ** arr"
   ]
  },
  {
   "cell_type": "code",
   "execution_count": null,
   "id": "608ef3d9",
   "metadata": {},
   "outputs": [],
   "source": []
  },
  {
   "cell_type": "code",
   "execution_count": 24,
   "id": "8186a810",
   "metadata": {
    "scrolled": true
   },
   "outputs": [
    {
     "data": {
      "text/plain": [
       "array([[1.        , 0.5       , 0.33333333],\n",
       "       [0.25      , 0.2       , 0.16666667]])"
      ]
     },
     "execution_count": 24,
     "metadata": {},
     "output_type": "execute_result"
    }
   ],
   "source": [
    "1 / arr"
   ]
  },
  {
   "cell_type": "code",
   "execution_count": 25,
   "id": "984d6802",
   "metadata": {},
   "outputs": [
    {
     "data": {
      "text/plain": [
       "array([[1.        , 1.41421356, 1.73205081],\n",
       "       [2.        , 2.23606798, 2.44948974]])"
      ]
     },
     "execution_count": 25,
     "metadata": {},
     "output_type": "execute_result"
    }
   ],
   "source": [
    "arr ** 0.5"
   ]
  },
  {
   "cell_type": "markdown",
   "id": "587ed476",
   "metadata": {},
   "source": [
    "同尺寸数组之间的比较，会产生一个布尔值数组"
   ]
  },
  {
   "cell_type": "code",
   "execution_count": 47,
   "id": "4599e771",
   "metadata": {},
   "outputs": [
    {
     "data": {
      "text/plain": [
       "array([[1., 2., 3.],\n",
       "       [4., 5., 6.]])"
      ]
     },
     "execution_count": 47,
     "metadata": {},
     "output_type": "execute_result"
    }
   ],
   "source": [
    "arr"
   ]
  },
  {
   "cell_type": "code",
   "execution_count": 55,
   "id": "1a7402bb",
   "metadata": {},
   "outputs": [
    {
     "data": {
      "text/plain": [
       "array([[0, 3, 2],\n",
       "       [3, 9, 6]])"
      ]
     },
     "execution_count": 55,
     "metadata": {},
     "output_type": "execute_result"
    }
   ],
   "source": [
    "arr2 = np.array([[0, 3, 2], [3, 9, 6]])\n",
    "arr2"
   ]
  },
  {
   "cell_type": "code",
   "execution_count": 49,
   "id": "cc8c55ba",
   "metadata": {},
   "outputs": [
    {
     "data": {
      "text/plain": [
       "array([[ True, False,  True],\n",
       "       [ True, False, False]])"
      ]
     },
     "execution_count": 49,
     "metadata": {},
     "output_type": "execute_result"
    }
   ],
   "source": [
    "arr > arr2 "
   ]
  },
  {
   "cell_type": "code",
   "execution_count": 56,
   "id": "1820d88b",
   "metadata": {},
   "outputs": [
    {
     "data": {
      "text/plain": [
       "array([[False, False, False],\n",
       "       [False, False,  True]])"
      ]
     },
     "execution_count": 56,
     "metadata": {},
     "output_type": "execute_result"
    }
   ],
   "source": [
    "arr == arr2 "
   ]
  },
  {
   "cell_type": "code",
   "execution_count": 57,
   "id": "bb913e85",
   "metadata": {},
   "outputs": [
    {
     "data": {
      "text/plain": [
       "array([[ True,  True,  True],\n",
       "       [ True,  True, False]])"
      ]
     },
     "execution_count": 57,
     "metadata": {},
     "output_type": "execute_result"
    }
   ],
   "source": [
    "arr != arr2 "
   ]
  },
  {
   "cell_type": "code",
   "execution_count": null,
   "id": "bd89b601",
   "metadata": {},
   "outputs": [],
   "source": []
  },
  {
   "cell_type": "code",
   "execution_count": 35,
   "id": "7334fc59",
   "metadata": {},
   "outputs": [
    {
     "data": {
      "text/plain": [
       "array([[0, 3, 2],\n",
       "       [3, 9, 6]])"
      ]
     },
     "execution_count": 35,
     "metadata": {},
     "output_type": "execute_result"
    },
    {
     "data": {
      "text/plain": [
       "array([[1., 2., 3.],\n",
       "       [4., 5., 6.]])"
      ]
     },
     "execution_count": 35,
     "metadata": {},
     "output_type": "execute_result"
    }
   ],
   "source": [
    "arr2 = np.array([[0, 3, 2], [3, 9, 6]])\n",
    "arr2\n",
    "arr"
   ]
  },
  {
   "cell_type": "code",
   "execution_count": 36,
   "id": "5de873a1",
   "metadata": {},
   "outputs": [
    {
     "data": {
      "text/plain": [
       "array([[ True, False,  True],\n",
       "       [ True, False, False]])"
      ]
     },
     "execution_count": 36,
     "metadata": {},
     "output_type": "execute_result"
    }
   ],
   "source": [
    "arr > arr2"
   ]
  },
  {
   "cell_type": "markdown",
   "id": "a54478ad",
   "metadata": {},
   "source": [
    "不同尺寸的数组间的操作，将会用到 **广播** 特性"
   ]
  },
  {
   "cell_type": "code",
   "execution_count": 37,
   "id": "c4ac3951",
   "metadata": {},
   "outputs": [
    {
     "data": {
      "text/plain": [
       "array([3, 9, 4])"
      ]
     },
     "execution_count": 37,
     "metadata": {},
     "output_type": "execute_result"
    },
    {
     "data": {
      "text/plain": [
       "array([[1., 2., 3.],\n",
       "       [4., 5., 6.]])"
      ]
     },
     "execution_count": 37,
     "metadata": {},
     "output_type": "execute_result"
    }
   ],
   "source": [
    "arr3 = np.array([3, 9, 4])\n",
    "arr3\n",
    "arr"
   ]
  },
  {
   "cell_type": "code",
   "execution_count": 38,
   "id": "bb96379a",
   "metadata": {},
   "outputs": [
    {
     "data": {
      "text/plain": [
       "array([[False, False, False],\n",
       "       [ True, False,  True]])"
      ]
     },
     "execution_count": 38,
     "metadata": {},
     "output_type": "execute_result"
    }
   ],
   "source": [
    "arr > arr3"
   ]
  },
  {
   "cell_type": "markdown",
   "id": "6f9e14aa",
   "metadata": {},
   "source": [
    "### 基础索引与切片"
   ]
  },
  {
   "cell_type": "markdown",
   "id": "477ba323",
   "metadata": {},
   "source": [
    "NumPy数组索引是一个大话题，有很多种方式可以让你选中数据的子集或某个单个元素。\n",
    "\n",
    "一维数组比较简单，看起来和Python的列表很类似："
   ]
  },
  {
   "cell_type": "markdown",
   "id": "2b27c25e",
   "metadata": {},
   "source": [
    "#### 索引与切片"
   ]
  },
  {
   "cell_type": "code",
   "execution_count": 39,
   "id": "3ee37af8",
   "metadata": {},
   "outputs": [
    {
     "data": {
      "text/plain": [
       "array([0, 1, 2, 3, 4, 5, 6, 7, 8, 9])"
      ]
     },
     "execution_count": 39,
     "metadata": {},
     "output_type": "execute_result"
    }
   ],
   "source": [
    "arr = np.arange(10)\n",
    "arr"
   ]
  },
  {
   "cell_type": "code",
   "execution_count": 40,
   "id": "af8bd0fb",
   "metadata": {},
   "outputs": [
    {
     "data": {
      "text/plain": [
       "5"
      ]
     },
     "execution_count": 40,
     "metadata": {},
     "output_type": "execute_result"
    },
    {
     "data": {
      "text/plain": [
       "array([5, 6, 7])"
      ]
     },
     "execution_count": 40,
     "metadata": {},
     "output_type": "execute_result"
    }
   ],
   "source": [
    "arr[5]\n",
    "arr[5:8]"
   ]
  },
  {
   "cell_type": "code",
   "execution_count": 41,
   "id": "859359d2",
   "metadata": {},
   "outputs": [
    {
     "data": {
      "text/plain": [
       "array([ 0,  1,  2,  3,  4, 15, 15, 15,  8,  9])"
      ]
     },
     "execution_count": 41,
     "metadata": {},
     "output_type": "execute_result"
    }
   ],
   "source": [
    "arr[5:8] = 15\n",
    "arr"
   ]
  },
  {
   "cell_type": "markdown",
   "id": "2627a790",
   "metadata": {},
   "source": [
    "#### 切片其实是 view"
   ]
  },
  {
   "cell_type": "markdown",
   "id": "658be63c",
   "metadata": {},
   "source": [
    "如果你传入了一个数值给 **数组的切片**，例如 `arr[5：8]=15`，**数值被传递给了整个切片**。\n",
    "\n",
    "区别于Python的内建列表，**数组的切片是原数组的视图**。\n",
    "\n",
    "这意味着数据并不是被复制了，**任何对于视图的修改都会反映到原数组上**。"
   ]
  },
  {
   "cell_type": "code",
   "execution_count": 42,
   "id": "399f3890",
   "metadata": {},
   "outputs": [
    {
     "data": {
      "text/plain": [
       "array([15, 15, 15])"
      ]
     },
     "execution_count": 42,
     "metadata": {},
     "output_type": "execute_result"
    },
    {
     "data": {
      "text/plain": [
       "array([ 0,  1,  2,  3,  4, 15, 15, 15,  8,  9])"
      ]
     },
     "execution_count": 42,
     "metadata": {},
     "output_type": "execute_result"
    }
   ],
   "source": [
    "arr_view = arr[5:8]\n",
    "arr_view\n",
    "arr"
   ]
  },
  {
   "cell_type": "markdown",
   "id": "77f2191a",
   "metadata": {},
   "source": [
    "当改变 arr_view 时，变化也会体现在原数组上"
   ]
  },
  {
   "cell_type": "code",
   "execution_count": 43,
   "id": "11ef4c0b",
   "metadata": {},
   "outputs": [
    {
     "data": {
      "text/plain": [
       "array([ 15, 123,  15])"
      ]
     },
     "execution_count": 43,
     "metadata": {},
     "output_type": "execute_result"
    },
    {
     "data": {
      "text/plain": [
       "array([  0,   1,   2,   3,   4,  15, 123,  15,   8,   9])"
      ]
     },
     "execution_count": 43,
     "metadata": {},
     "output_type": "execute_result"
    }
   ],
   "source": [
    "arr_view[1] = 123\n",
    "arr_view\n",
    "arr"
   ]
  },
  {
   "cell_type": "markdown",
   "id": "20f0c720",
   "metadata": {},
   "source": [
    "假如你是NumPy新手，你可能会感到惊讶，因为其他的数组编程语言都是更为急切地复制数据。\n",
    "\n",
    "由于 **NumPy被设计成适合处理非常大的数组**，你可以想象如果 NumPy **持续复制数据会引起多少内存问题**。\n",
    "\n",
    "如果你还是想要一份数组切片的拷贝而不是一份视图的话，你就必须显式地复制这个数组，例如 `arr[5：8].copy()`"
   ]
  },
  {
   "cell_type": "markdown",
   "id": "c4a8a556",
   "metadata": {},
   "source": [
    "#### 通过索引获取单个元素"
   ]
  },
  {
   "cell_type": "markdown",
   "id": "5af80858",
   "metadata": {},
   "source": [
    "* 单个元素可以通过 **递归** 的方式获得。但是要多写点代码\n",
    "\n",
    "* 也可以通过传递一个 **逗号分隔的索引列表** 去选择单个元素，格式为：**`[行, 列]`**"
   ]
  },
  {
   "cell_type": "code",
   "execution_count": 99,
   "id": "87da9438",
   "metadata": {},
   "outputs": [
    {
     "data": {
      "text/plain": [
       "array([[1, 2, 3],\n",
       "       [4, 5, 6],\n",
       "       [7, 8, 9]])"
      ]
     },
     "execution_count": 99,
     "metadata": {},
     "output_type": "execute_result"
    },
    {
     "data": {
      "text/plain": [
       "5"
      ]
     },
     "execution_count": 99,
     "metadata": {},
     "output_type": "execute_result"
    },
    {
     "data": {
      "text/plain": [
       "5"
      ]
     },
     "execution_count": 99,
     "metadata": {},
     "output_type": "execute_result"
    }
   ],
   "source": [
    "arr = np.array([[1, 2, 3], [4, 5, 6], [7, 8, 9]])\n",
    "arr\n",
    "\n",
    "# 递归方式\n",
    "arr[1][1]\n",
    "\n",
    "# 逗号分隔的索引列表\n",
    "arr[1, 1]"
   ]
  },
  {
   "cell_type": "markdown",
   "id": "0389c2f6",
   "metadata": {},
   "source": [
    "#### 二维数组的切片"
   ]
  },
  {
   "cell_type": "markdown",
   "id": "fbc081f4",
   "metadata": {},
   "source": [
    "格式为：**`[行, 列]`**\n",
    "\n",
    "在 **行** 与 **列** 中可以使用 **切片**。"
   ]
  },
  {
   "cell_type": "markdown",
   "id": "dc242b97",
   "metadata": {},
   "source": [
    "<img src=\"2d-array-slice.jpg\" />"
   ]
  },
  {
   "cell_type": "code",
   "execution_count": 101,
   "id": "0ea99140",
   "metadata": {},
   "outputs": [
    {
     "data": {
      "text/plain": [
       "array([[1, 2, 3],\n",
       "       [4, 5, 6],\n",
       "       [7, 8, 9]])"
      ]
     },
     "execution_count": 101,
     "metadata": {},
     "output_type": "execute_result"
    }
   ],
   "source": [
    "arr = np.array([[1, 2, 3], [4, 5, 6], [7, 8, 9]])\n",
    "arr"
   ]
  },
  {
   "cell_type": "code",
   "execution_count": 112,
   "id": "ccde9f2b",
   "metadata": {},
   "outputs": [],
   "source": [
    "# 可以试一下\n",
    "\n",
    "# 获取第 1 行\n",
    "\n",
    "# 获取第 1, 2 两行\n",
    "\n",
    "# 获取右上角 4 个元素\n",
    "\n",
    "# 获取最后一行\n",
    "\n",
    "# 获取左边两列\n",
    "\n",
    "# 获取第 2 行左边两个元素\n"
   ]
  },
  {
   "cell_type": "markdown",
   "id": "afc066b1",
   "metadata": {},
   "source": [
    "### 布尔数组"
   ]
  },
  {
   "cell_type": "markdown",
   "id": "9b56bc78",
   "metadata": {},
   "source": [
    "布尔数组只是元素为 `bool` 类型的数组"
   ]
  },
  {
   "cell_type": "markdown",
   "id": "4af2cad2",
   "metadata": {},
   "source": [
    "**创建一个布尔数组**"
   ]
  },
  {
   "cell_type": "code",
   "execution_count": 10,
   "id": "9ba86389",
   "metadata": {},
   "outputs": [
    {
     "data": {
      "text/plain": [
       "array([ True, False, False])"
      ]
     },
     "execution_count": 10,
     "metadata": {},
     "output_type": "execute_result"
    },
    {
     "data": {
      "text/plain": [
       "dtype('bool')"
      ]
     },
     "execution_count": 10,
     "metadata": {},
     "output_type": "execute_result"
    }
   ],
   "source": [
    "arr = np.array([True, False, False])\n",
    "arr\n",
    "arr.dtype"
   ]
  },
  {
   "cell_type": "markdown",
   "id": "81e975d2",
   "metadata": {},
   "source": [
    "**任何作用于数组的比较运算符都将创建一个布尔数组，而不是简单的布尔值**"
   ]
  },
  {
   "cell_type": "code",
   "execution_count": 12,
   "id": "248a5f82",
   "metadata": {},
   "outputs": [
    {
     "data": {
      "text/plain": [
       "array([[1, 2, 3],\n",
       "       [4, 5, 6],\n",
       "       [7, 8, 9]])"
      ]
     },
     "execution_count": 12,
     "metadata": {},
     "output_type": "execute_result"
    },
    {
     "data": {
      "text/plain": [
       "(3, 3)"
      ]
     },
     "execution_count": 12,
     "metadata": {},
     "output_type": "execute_result"
    },
    {
     "data": {
      "text/plain": [
       "dtype('int32')"
      ]
     },
     "execution_count": 12,
     "metadata": {},
     "output_type": "execute_result"
    }
   ],
   "source": [
    "arr = np.array([[1, 2, 3], [4, 5, 6], [7, 8, 9]])\n",
    "arr\n",
    "arr.shape\n",
    "arr.dtype"
   ]
  },
  {
   "cell_type": "code",
   "execution_count": 13,
   "id": "072415eb",
   "metadata": {
    "scrolled": true
   },
   "outputs": [
    {
     "data": {
      "text/plain": [
       "array([[False, False, False],\n",
       "       [False, False,  True],\n",
       "       [ True,  True,  True]])"
      ]
     },
     "execution_count": 13,
     "metadata": {},
     "output_type": "execute_result"
    }
   ],
   "source": [
    "arr > 5"
   ]
  },
  {
   "cell_type": "code",
   "execution_count": 14,
   "id": "55cc9411",
   "metadata": {
    "scrolled": true
   },
   "outputs": [
    {
     "data": {
      "text/plain": [
       "array([[False, False, False],\n",
       "       [False,  True, False],\n",
       "       [False, False, False]])"
      ]
     },
     "execution_count": 14,
     "metadata": {},
     "output_type": "execute_result"
    }
   ],
   "source": [
    "arr == 5"
   ]
  },
  {
   "cell_type": "markdown",
   "id": "82024a52",
   "metadata": {},
   "source": [
    "### 布尔索引"
   ]
  },
  {
   "cell_type": "markdown",
   "id": "1f4497f5",
   "metadata": {},
   "source": [
    "可以传入一个 **布尔值的数组**，来对数组进行 **索引**。"
   ]
  },
  {
   "cell_type": "code",
   "execution_count": 16,
   "id": "3f2ac6c6",
   "metadata": {
    "scrolled": true
   },
   "outputs": [
    {
     "data": {
      "text/plain": [
       "array([[1, 2, 3],\n",
       "       [4, 5, 6],\n",
       "       [7, 8, 9]])"
      ]
     },
     "execution_count": 16,
     "metadata": {},
     "output_type": "execute_result"
    },
    {
     "data": {
      "text/plain": [
       "(3, 3)"
      ]
     },
     "execution_count": 16,
     "metadata": {},
     "output_type": "execute_result"
    },
    {
     "data": {
      "text/plain": [
       "dtype('int32')"
      ]
     },
     "execution_count": 16,
     "metadata": {},
     "output_type": "execute_result"
    }
   ],
   "source": [
    "arr = np.array([[1, 2, 3], [4, 5, 6], [7, 8, 9]])\n",
    "arr\n",
    "arr.shape\n",
    "arr.dtype"
   ]
  },
  {
   "cell_type": "markdown",
   "id": "9dd68e44",
   "metadata": {},
   "source": [
    "#### 单个条件的布尔数组"
   ]
  },
  {
   "cell_type": "code",
   "execution_count": 17,
   "id": "43dd3161",
   "metadata": {},
   "outputs": [
    {
     "data": {
      "text/plain": [
       "array([6, 7, 8, 9])"
      ]
     },
     "execution_count": 17,
     "metadata": {},
     "output_type": "execute_result"
    }
   ],
   "source": [
    "# 大于\n",
    "arr[arr > 5]"
   ]
  },
  {
   "cell_type": "code",
   "execution_count": 21,
   "id": "053d356e",
   "metadata": {
    "scrolled": true
   },
   "outputs": [
    {
     "data": {
      "text/plain": [
       "array([5])"
      ]
     },
     "execution_count": 21,
     "metadata": {},
     "output_type": "execute_result"
    }
   ],
   "source": [
    "# 等于\n",
    "arr[arr == 5]"
   ]
  },
  {
   "cell_type": "code",
   "execution_count": 22,
   "id": "a3959d42",
   "metadata": {},
   "outputs": [
    {
     "data": {
      "text/plain": [
       "array([1, 2, 3, 4, 6, 7, 8, 9])"
      ]
     },
     "execution_count": 22,
     "metadata": {},
     "output_type": "execute_result"
    }
   ],
   "source": [
    "# 不等于\n",
    "arr[arr != 5]"
   ]
  },
  {
   "cell_type": "code",
   "execution_count": 23,
   "id": "7fca9f0f",
   "metadata": {
    "scrolled": true
   },
   "outputs": [
    {
     "data": {
      "text/plain": [
       "array([1, 2, 3, 4, 6, 7, 8, 9])"
      ]
     },
     "execution_count": 23,
     "metadata": {},
     "output_type": "execute_result"
    }
   ],
   "source": [
    "# 不等于，对相等的判断取反 ~\n",
    "arr[~(arr == 5)]"
   ]
  },
  {
   "cell_type": "markdown",
   "id": "0cd4f170",
   "metadata": {},
   "source": [
    "#### 多个条件的布尔数组"
   ]
  },
  {
   "cell_type": "markdown",
   "id": "a95a396e",
   "metadata": {},
   "source": [
    "可以通过使用 `&` (and) 与 `|` (or) 将多个条件连接起来"
   ]
  },
  {
   "cell_type": "code",
   "execution_count": 26,
   "id": "2d1929a9",
   "metadata": {},
   "outputs": [
    {
     "data": {
      "text/plain": [
       "array([6, 7, 8])"
      ]
     },
     "execution_count": 26,
     "metadata": {},
     "output_type": "execute_result"
    },
    {
     "data": {
      "text/plain": [
       "array([6, 7, 8])"
      ]
     },
     "execution_count": 26,
     "metadata": {},
     "output_type": "execute_result"
    }
   ],
   "source": [
    "arr[(arr > 5) & (arr < 9)]\n",
    "\n",
    "# 或\n",
    "mask = (arr > 5) & (arr < 9)\n",
    "arr[mask]"
   ]
  },
  {
   "cell_type": "code",
   "execution_count": 28,
   "id": "8dcedeeb",
   "metadata": {},
   "outputs": [
    {
     "data": {
      "text/plain": [
       "array([[ True,  True,  True],\n",
       "       [False, False, False],\n",
       "       [False,  True,  True]])"
      ]
     },
     "execution_count": 28,
     "metadata": {},
     "output_type": "execute_result"
    },
    {
     "data": {
      "text/plain": [
       "array([1, 2, 3, 8, 9])"
      ]
     },
     "execution_count": 28,
     "metadata": {},
     "output_type": "execute_result"
    }
   ],
   "source": [
    "mask = (arr < 4) | (arr > 7)\n",
    "mask\n",
    "\n",
    "arr[mask]"
   ]
  },
  {
   "cell_type": "markdown",
   "id": "2e12ace1",
   "metadata": {},
   "source": [
    "注意：\n",
    "* **使用布尔值索引选择数据时，总是生成数据的拷贝**，即使返回的数组并没有任何变化。\n",
    "* Python的关键字 `and` 和 `or` 对布尔值数组并没有用，请使用 `&`（and）和 `|`（or）来代替。"
   ]
  },
  {
   "cell_type": "markdown",
   "id": "cb2d641c",
   "metadata": {},
   "source": [
    "### Fancy Indexing"
   ]
  },
  {
   "cell_type": "markdown",
   "id": "c9571216",
   "metadata": {},
   "source": [
    "神奇索引（**Fancy indexing**）是 NumPy 中的术语，用于描述通过使用类似数组的结构来访问多个值。\n",
    "\n",
    "当然，这个操作，也被沿用到了 Pandas 中。"
   ]
  },
  {
   "cell_type": "code",
   "execution_count": 31,
   "id": "66d4309e",
   "metadata": {},
   "outputs": [
    {
     "data": {
      "text/plain": [
       "array([[0., 0., 0., 0.],\n",
       "       [0., 0., 0., 0.],\n",
       "       [0., 0., 0., 0.],\n",
       "       [0., 0., 0., 0.],\n",
       "       [0., 0., 0., 0.],\n",
       "       [0., 0., 0., 0.],\n",
       "       [0., 0., 0., 0.],\n",
       "       [0., 0., 0., 0.]])"
      ]
     },
     "execution_count": 31,
     "metadata": {},
     "output_type": "execute_result"
    },
    {
     "data": {
      "text/plain": [
       "array([[0., 0., 0., 0.],\n",
       "       [1., 1., 1., 1.],\n",
       "       [2., 2., 2., 2.],\n",
       "       [3., 3., 3., 3.],\n",
       "       [4., 4., 4., 4.],\n",
       "       [5., 5., 5., 5.],\n",
       "       [6., 6., 6., 6.],\n",
       "       [7., 7., 7., 7.]])"
      ]
     },
     "execution_count": 31,
     "metadata": {},
     "output_type": "execute_result"
    }
   ],
   "source": [
    "# 构造示例数组\n",
    "arr = np.zeros((8, 4))\n",
    "arr\n",
    "\n",
    "for i in range(8):\n",
    "    arr[i] = i\n",
    "arr"
   ]
  },
  {
   "cell_type": "code",
   "execution_count": 34,
   "id": "038a5c6e",
   "metadata": {},
   "outputs": [
    {
     "data": {
      "text/plain": [
       "array([[0., 0., 0., 0.],\n",
       "       [3., 3., 3., 3.],\n",
       "       [5., 5., 5., 5.]])"
      ]
     },
     "execution_count": 34,
     "metadata": {},
     "output_type": "execute_result"
    },
    {
     "data": {
      "text/plain": [
       "array([[4., 4., 4., 4.],\n",
       "       [6., 6., 6., 6.],\n",
       "       [0., 0., 0., 0.],\n",
       "       [2., 2., 2., 2.]])"
      ]
     },
     "execution_count": 34,
     "metadata": {},
     "output_type": "execute_result"
    }
   ],
   "source": [
    "# 获取第 0，3，5 行\n",
    "arr[[0, 3, 5]]\n",
    "\n",
    "# 获取第 4，6，0，2 行\n",
    "arr[[4, 6, 0, 2]]"
   ]
  },
  {
   "cell_type": "code",
   "execution_count": 39,
   "id": "a331c255",
   "metadata": {},
   "outputs": [
    {
     "data": {
      "text/plain": [
       "array([[ 0,  1,  2,  3],\n",
       "       [ 4,  5,  6,  7],\n",
       "       [ 8,  9, 10, 11],\n",
       "       [12, 13, 14, 15],\n",
       "       [16, 17, 18, 19],\n",
       "       [20, 21, 22, 23],\n",
       "       [24, 25, 26, 27],\n",
       "       [28, 29, 30, 31]])"
      ]
     },
     "execution_count": 39,
     "metadata": {},
     "output_type": "execute_result"
    },
    {
     "data": {
      "text/plain": [
       "array([ 1, 15, 20, 18])"
      ]
     },
     "execution_count": 39,
     "metadata": {},
     "output_type": "execute_result"
    }
   ],
   "source": [
    "# 构造 8x4 数组\n",
    "arr = np.arange(32).reshape((8, 4))\n",
    "arr\n",
    "\n",
    "# 获取坐标为 (0, 1)、(3, 3)、(5, 0)、(4, 2) 的数据\n",
    "arr[[0, 3, 5, 4], [1, 3, 0, 2]]\n",
    "\n"
   ]
  },
  {
   "cell_type": "code",
   "execution_count": 41,
   "id": "41d910e3",
   "metadata": {},
   "outputs": [
    {
     "data": {
      "text/plain": [
       "array([13, 19])"
      ]
     },
     "execution_count": 41,
     "metadata": {},
     "output_type": "execute_result"
    }
   ],
   "source": [
    "arr[[3, 4], [1, 3]]"
   ]
  },
  {
   "cell_type": "markdown",
   "id": "0f4c6217",
   "metadata": {},
   "source": [
    "注意：\n",
    "* 如果不考虑数组的维数（本例中是二维），神奇索引的结果总是一维的.\n",
    "* 请牢记切片与神奇索引不同，它总是将数据复制到一个新的数组中。"
   ]
  },
  {
   "cell_type": "markdown",
   "id": "78f9eec6",
   "metadata": {},
   "source": [
    "### 数组转置和换轴"
   ]
  },
  {
   "cell_type": "markdown",
   "id": "8c0ef9c2",
   "metadata": {},
   "source": [
    "* 转置是一种特殊的数据重组形式，可以 **返回底层数据的视图而不需要复制任何内容**。\n",
    "* 转轴，与 Excel 中的 **转置** 类似。"
   ]
  },
  {
   "cell_type": "code",
   "execution_count": 42,
   "id": "e63c37c2",
   "metadata": {
    "scrolled": true
   },
   "outputs": [
    {
     "data": {
      "text/plain": [
       "array([[ 0,  1,  2,  3,  4],\n",
       "       [ 5,  6,  7,  8,  9],\n",
       "       [10, 11, 12, 13, 14]])"
      ]
     },
     "execution_count": 42,
     "metadata": {},
     "output_type": "execute_result"
    },
    {
     "data": {
      "text/plain": [
       "array([[ 0,  5, 10],\n",
       "       [ 1,  6, 11],\n",
       "       [ 2,  7, 12],\n",
       "       [ 3,  8, 13],\n",
       "       [ 4,  9, 14]])"
      ]
     },
     "execution_count": 42,
     "metadata": {},
     "output_type": "execute_result"
    }
   ],
   "source": [
    "arr = np.arange(15).reshape((3, 5))\n",
    "arr\n",
    "\n",
    "# 转轴\n",
    "arr.T"
   ]
  },
  {
   "cell_type": "markdown",
   "id": "a978ce4f",
   "metadata": {},
   "source": [
    "## 通用函数（Universal Functions）：Fast Element-Wise Array Functions"
   ]
  },
  {
   "cell_type": "markdown",
   "id": "b4d7f608",
   "metadata": {},
   "source": [
    "请思考一下，在 Python 中如果要对一个列表中的所有元素做运算，你要怎么做？\n",
    "\n",
    "比如想对下面的 nums 中每个元素都乘以 2 。"
   ]
  },
  {
   "cell_type": "code",
   "execution_count": 44,
   "id": "f809fd9d",
   "metadata": {},
   "outputs": [
    {
     "data": {
      "text/plain": [
       "[0, 1, 2, 3, 4, 5, 6, 7]"
      ]
     },
     "execution_count": 44,
     "metadata": {},
     "output_type": "execute_result"
    }
   ],
   "source": [
    "nums = list(range(8))\n",
    "nums"
   ]
  },
  {
   "cell_type": "code",
   "execution_count": 47,
   "id": "a7d1e7ec",
   "metadata": {},
   "outputs": [
    {
     "data": {
      "text/plain": [
       "[0, 2, 4, 6, 8, 10, 12, 14]"
      ]
     },
     "execution_count": 47,
     "metadata": {},
     "output_type": "execute_result"
    }
   ],
   "source": [
    "# 可以使用 for 循环 或列表推导式\n",
    "nums2 = [x * 2 for x in nums]\n",
    "nums2"
   ]
  },
  {
   "cell_type": "markdown",
   "id": "c205b1d0",
   "metadata": {},
   "source": [
    "而在 NumPy 中 通用函数（Universal Functions, `ufunc`）则可以让我们省去使用 `for` 循环的麻烦\n",
    "\n",
    "直接用一个通用函数就可以完成。\n",
    "\n",
    "简单来说，通用函数就是 **对整个数组的元素逐一进行操作的函数**。\n",
    "\n",
    "目前 numpy 中在一种或多种类型上定义了 [60 多个通用函数](https://numpy.org/doc/stable/reference/ufuncs.html#available-ufuncs)，涵盖了各种各样的操作，有数学、三角学、比较、浮点数等等。\n",
    "\n",
    "通用函数有时可以被分为有两种：Unary ufunc 与 Binary ufunc。"
   ]
  },
  {
   "cell_type": "markdown",
   "id": "d89aaf7b",
   "metadata": {},
   "source": [
    "#### Math operations"
   ]
  },
  {
   "cell_type": "code",
   "execution_count": 48,
   "id": "b402958a",
   "metadata": {},
   "outputs": [
    {
     "data": {
      "text/plain": [
       "array([0, 1, 2, 3, 4, 5, 6, 7])"
      ]
     },
     "execution_count": 48,
     "metadata": {},
     "output_type": "execute_result"
    },
    {
     "data": {
      "text/plain": [
       "array([0, 1, 2, 3, 4, 5, 6, 7])"
      ]
     },
     "execution_count": 48,
     "metadata": {},
     "output_type": "execute_result"
    }
   ],
   "source": [
    "arr1 = np.arange(8)\n",
    "arr2 = np.arange(8)\n",
    "\n",
    "arr1\n",
    "arr2"
   ]
  },
  {
   "cell_type": "markdown",
   "id": "dfebadd3",
   "metadata": {},
   "source": [
    "**常用四则运算**"
   ]
  },
  {
   "cell_type": "code",
   "execution_count": 52,
   "id": "22deae87",
   "metadata": {},
   "outputs": [
    {
     "data": {
      "text/plain": [
       "array([ 0,  2,  4,  6,  8, 10, 12, 14])"
      ]
     },
     "execution_count": 52,
     "metadata": {},
     "output_type": "execute_result"
    },
    {
     "data": {
      "text/plain": [
       "array([0, 0, 0, 0, 0, 0, 0, 0])"
      ]
     },
     "execution_count": 52,
     "metadata": {},
     "output_type": "execute_result"
    },
    {
     "data": {
      "text/plain": [
       "array([ 0,  1,  4,  9, 16, 25, 36, 49])"
      ]
     },
     "execution_count": 52,
     "metadata": {},
     "output_type": "execute_result"
    },
    {
     "name": "stderr",
     "output_type": "stream",
     "text": [
      "D:\\ProgramData\\Anaconda3\\envs\\competion\\lib\\site-packages\\ipykernel_launcher.py:11: RuntimeWarning: divide by zero encountered in remainder\n",
      "  # This is added back by InteractiveShellApp.init_path()\n"
     ]
    },
    {
     "data": {
      "text/plain": [
       "array([0, 0, 0, 0, 0, 0, 0, 0], dtype=int32)"
      ]
     },
     "execution_count": 52,
     "metadata": {},
     "output_type": "execute_result"
    }
   ],
   "source": [
    "# add\n",
    "np.add(arr1, arr2)\n",
    "\n",
    "# subtract\n",
    "np.subtract(arr1, arr2)\n",
    "\n",
    "# multiply\n",
    "np.multiply(arr1, arr2)\n",
    "\n",
    "# mod\n",
    "np.mod(arr1, arr2)\n",
    "\n"
   ]
  },
  {
   "cell_type": "code",
   "execution_count": 55,
   "id": "6af5193c",
   "metadata": {
    "scrolled": true
   },
   "outputs": [
    {
     "data": {
      "text/plain": [
       "array([0.        , 1.        , 1.41421356, 1.73205081, 2.        ,\n",
       "       2.23606798, 2.44948974, 2.64575131])"
      ]
     },
     "execution_count": 55,
     "metadata": {},
     "output_type": "execute_result"
    }
   ],
   "source": [
    "# 返回数组中每个元素的非负平方根\n",
    "np.sqrt(arr1)"
   ]
  },
  {
   "cell_type": "markdown",
   "id": "2fef0b58",
   "metadata": {},
   "source": [
    "#### Comparison functions"
   ]
  },
  {
   "cell_type": "code",
   "execution_count": 58,
   "id": "c849e481",
   "metadata": {},
   "outputs": [
    {
     "data": {
      "text/plain": [
       "array([False, False, False, False, False, False, False, False])"
      ]
     },
     "execution_count": 58,
     "metadata": {},
     "output_type": "execute_result"
    },
    {
     "data": {
      "text/plain": [
       "array([False, False, False, False, False, False, False, False])"
      ]
     },
     "execution_count": 58,
     "metadata": {},
     "output_type": "execute_result"
    }
   ],
   "source": [
    "# 逐个元素比较，若 arr1 中元素大于 arr2 中对应元素，则返回 True，否则返回 False\n",
    "np.greater(arr1, arr2)\n",
    "\n",
    "arr1 > arr2"
   ]
  },
  {
   "cell_type": "markdown",
   "id": "85773ca1",
   "metadata": {},
   "source": [
    "## 使用数组进行面向数组编程"
   ]
  },
  {
   "cell_type": "markdown",
   "id": "3fc932c0",
   "metadata": {},
   "source": [
    "### 数组向量化操作"
   ]
  },
  {
   "cell_type": "markdown",
   "id": "bbe36256",
   "metadata": {},
   "source": [
    "使用NumPy数组可以使你利用简单的数组表达式完成多种数据操作任务，而无须写些大量循环。\n",
    "\n",
    "这种利用数组表达式来替代显式循环的方法，称为 **向量化**。\n",
    "\n",
    "通常，向量化的数组操作会比纯Python的等价实现在速度上快一到两个数量级（甚至更多）"
   ]
  },
  {
   "cell_type": "markdown",
   "id": "9cce61c9",
   "metadata": {},
   "source": [
    "#### `np.where()`"
   ]
  },
  {
   "cell_type": "code",
   "execution_count": 59,
   "id": "3e6e6764",
   "metadata": {},
   "outputs": [
    {
     "data": {
      "text/plain": [
       "array([[ 0.26277828,  0.35441165,  1.24917433,  0.70453141],\n",
       "       [-0.32898034,  0.30905564,  0.07795251,  1.04341448],\n",
       "       [ 1.36252068,  0.6438838 , -0.06606719, -0.13679237],\n",
       "       [-0.52168119,  1.20006073, -1.1066264 ,  0.75022699]])"
      ]
     },
     "execution_count": 59,
     "metadata": {},
     "output_type": "execute_result"
    }
   ],
   "source": [
    "arr = np.random.randn(4, 4)\n",
    "arr"
   ]
  },
  {
   "cell_type": "code",
   "execution_count": 60,
   "id": "5718dd52",
   "metadata": {},
   "outputs": [
    {
     "data": {
      "text/plain": [
       "array([[ 2,  2,  2,  2],\n",
       "       [-2,  2,  2,  2],\n",
       "       [ 2,  2, -2, -2],\n",
       "       [-2,  2, -2,  2]])"
      ]
     },
     "execution_count": 60,
     "metadata": {},
     "output_type": "execute_result"
    }
   ],
   "source": [
    "# 将数组 arr 中，正数替换为 2，负数替换为 -2\n",
    "np.where(arr > 0, 2, -2)"
   ]
  },
  {
   "cell_type": "code",
   "execution_count": 61,
   "id": "51825433",
   "metadata": {},
   "outputs": [
    {
     "data": {
      "text/plain": [
       "array([[ 2.        ,  2.        ,  2.        ,  2.        ],\n",
       "       [-0.32898034,  2.        ,  2.        ,  2.        ],\n",
       "       [ 2.        ,  2.        , -0.06606719, -0.13679237],\n",
       "       [-0.52168119,  2.        , -1.1066264 ,  2.        ]])"
      ]
     },
     "execution_count": 61,
     "metadata": {},
     "output_type": "execute_result"
    }
   ],
   "source": [
    "# 将数组 arr 中，正数替换为 2，负数还为原来的值\n",
    "# 注意，这里第 3 个参数为数组\n",
    "np.where(arr > 0, 2, arr)"
   ]
  },
  {
   "cell_type": "code",
   "execution_count": null,
   "id": "8400cdde",
   "metadata": {},
   "outputs": [],
   "source": []
  },
  {
   "cell_type": "markdown",
   "id": "63a0f501",
   "metadata": {},
   "source": [
    "### 数学和统计方法"
   ]
  },
  {
   "cell_type": "markdown",
   "id": "1d863003",
   "metadata": {},
   "source": [
    "在 NumPy 中，有许多关于计算整个数组统计值或关于轴向数据的数学函数，可以作为数组类型的方法被调用。"
   ]
  },
  {
   "cell_type": "markdown",
   "id": "da30c08e",
   "metadata": {},
   "source": [
    "#### 聚合函数"
   ]
  },
  {
   "cell_type": "markdown",
   "id": "6326498b",
   "metadata": {},
   "source": [
    "所谓 **聚合函数**，指的是，可以将原来数组，用部分或一个数来表示，比如，求和、平均值等等。"
   ]
  },
  {
   "cell_type": "code",
   "execution_count": 63,
   "id": "a499dd6d",
   "metadata": {},
   "outputs": [
    {
     "data": {
      "text/plain": [
       "array([[ 0,  1,  2,  3,  4],\n",
       "       [ 5,  6,  7,  8,  9],\n",
       "       [10, 11, 12, 13, 14]])"
      ]
     },
     "execution_count": 63,
     "metadata": {},
     "output_type": "execute_result"
    }
   ],
   "source": [
    "arr = np.arange(15).reshape((3, 5))\n",
    "arr"
   ]
  },
  {
   "cell_type": "code",
   "execution_count": 65,
   "id": "1637f0c6",
   "metadata": {},
   "outputs": [
    {
     "data": {
      "text/plain": [
       "105"
      ]
     },
     "execution_count": 65,
     "metadata": {},
     "output_type": "execute_result"
    },
    {
     "data": {
      "text/plain": [
       "7.0"
      ]
     },
     "execution_count": 65,
     "metadata": {},
     "output_type": "execute_result"
    }
   ],
   "source": [
    "# 求和\n",
    "arr.sum()\n",
    "\n",
    "# 平均值\n",
    "arr.mean()"
   ]
  },
  {
   "cell_type": "markdown",
   "id": "99f33cd6",
   "metadata": {},
   "source": [
    "除了使用数组实例的方法，还可以使用顶层的 NumPy 函数。"
   ]
  },
  {
   "cell_type": "code",
   "execution_count": 67,
   "id": "0bdd39af",
   "metadata": {},
   "outputs": [
    {
     "data": {
      "text/plain": [
       "105"
      ]
     },
     "execution_count": 67,
     "metadata": {},
     "output_type": "execute_result"
    },
    {
     "data": {
      "text/plain": [
       "7.0"
      ]
     },
     "execution_count": 67,
     "metadata": {},
     "output_type": "execute_result"
    }
   ],
   "source": [
    "# 求和\n",
    "np.sum(arr)\n",
    "\n",
    "# 平均值\n",
    "np.mean(arr)"
   ]
  },
  {
   "cell_type": "markdown",
   "id": "3c1663e0",
   "metadata": {},
   "source": [
    "常见统计方法：\n",
    "\n",
    "* `sum`：沿着轴向计算所有元素的累和\n",
    "* `mean`：数学平均\n",
    "* `std`、`var`：标准差和方差,可以选择自由度调整(默认分母是n)\n",
    "* `min`、`max`：最小值和最大值\n",
    "* `argmin`、`argmax`：最小值和最大值的位置\n",
    "* `cumsum`：从0开始元素累积和\n",
    "* `cumprod`：从1开始元素累积积\n"
   ]
  },
  {
   "cell_type": "markdown",
   "id": "e157df5e",
   "metadata": {},
   "source": [
    "#### 使用参数 `axis`"
   ]
  },
  {
   "cell_type": "markdown",
   "id": "95cf2751",
   "metadata": {},
   "source": [
    "像 `mean`、`sum` 等函数可以接收一个可选参数 `axis`，这个参数可以用于计算给定轴向上的统计值，形成一个下降一维度的数组"
   ]
  },
  {
   "cell_type": "code",
   "execution_count": 71,
   "id": "ab562c90",
   "metadata": {},
   "outputs": [
    {
     "data": {
      "text/plain": [
       "array([[ 0,  1,  2,  3,  4],\n",
       "       [ 5,  6,  7,  8,  9],\n",
       "       [10, 11, 12, 13, 14]])"
      ]
     },
     "execution_count": 71,
     "metadata": {},
     "output_type": "execute_result"
    }
   ],
   "source": [
    "arr"
   ]
  },
  {
   "cell_type": "code",
   "execution_count": 72,
   "id": "4f57c365",
   "metadata": {},
   "outputs": [
    {
     "data": {
      "text/plain": [
       "array([ 2.,  7., 12.])"
      ]
     },
     "execution_count": 72,
     "metadata": {},
     "output_type": "execute_result"
    },
    {
     "data": {
      "text/plain": [
       "array([ 2.,  7., 12.])"
      ]
     },
     "execution_count": 72,
     "metadata": {},
     "output_type": "execute_result"
    }
   ],
   "source": [
    "# 统计每行平均值\n",
    "arr.mean(axis=1)\n",
    "\n",
    "np.mean(arr, axis=1)"
   ]
  },
  {
   "cell_type": "code",
   "execution_count": 70,
   "id": "6ca82395",
   "metadata": {},
   "outputs": [
    {
     "data": {
      "text/plain": [
       "array([5., 6., 7., 8., 9.])"
      ]
     },
     "execution_count": 70,
     "metadata": {},
     "output_type": "execute_result"
    },
    {
     "data": {
      "text/plain": [
       "array([5., 6., 7., 8., 9.])"
      ]
     },
     "execution_count": 70,
     "metadata": {},
     "output_type": "execute_result"
    }
   ],
   "source": [
    "# 统计每列平均值\n",
    "arr.mean(axis=0)\n",
    "\n",
    "np.mean(arr, axis=0)"
   ]
  },
  {
   "cell_type": "markdown",
   "id": "34caf871",
   "metadata": {},
   "source": [
    "### 布尔值数组的方法"
   ]
  },
  {
   "cell_type": "markdown",
   "id": "a10e966f",
   "metadata": {},
   "source": [
    "在前面介绍的方法中，布尔值会被强制为 `1`（`True`）和 `0`（`False`）。\n",
    "\n",
    "因此，`sum` 通常可以用于 **计算布尔值数组中的True的个数**。"
   ]
  },
  {
   "cell_type": "code",
   "execution_count": 75,
   "id": "8da74e16",
   "metadata": {},
   "outputs": [
    {
     "data": {
      "text/plain": [
       "array([[ 0,  1,  2,  3,  4],\n",
       "       [ 5,  6,  7,  8,  9],\n",
       "       [10, 11, 12, 13, 14]])"
      ]
     },
     "execution_count": 75,
     "metadata": {},
     "output_type": "execute_result"
    }
   ],
   "source": [
    "arr = np.arange(15).reshape((3, 5))\n",
    "arr"
   ]
  },
  {
   "cell_type": "code",
   "execution_count": 76,
   "id": "882eb8e5",
   "metadata": {},
   "outputs": [
    {
     "data": {
      "text/plain": [
       "array([[False, False, False, False, False],\n",
       "       [False, False, False, False, False],\n",
       "       [False,  True,  True,  True,  True]])"
      ]
     },
     "execution_count": 76,
     "metadata": {},
     "output_type": "execute_result"
    },
    {
     "data": {
      "text/plain": [
       "4"
      ]
     },
     "execution_count": 76,
     "metadata": {},
     "output_type": "execute_result"
    }
   ],
   "source": [
    "arr > 10\n",
    "\n",
    "(arr > 10).sum()"
   ]
  },
  {
   "cell_type": "markdown",
   "id": "b5c38fbe",
   "metadata": {},
   "source": [
    "对于布尔值数组，有两个非常有用的方法 `any` 和 `all`。\n",
    "\n",
    "`any` 检查数组中是否至少有一个 `True`，而 `all` 检查是否每个值都是 `True`。\n",
    "\n",
    "这些方法也可适用于非布尔值数组，所有的 **非0元素** 都会按 `True` 处理。"
   ]
  },
  {
   "cell_type": "code",
   "execution_count": 80,
   "id": "a63b1f24",
   "metadata": {},
   "outputs": [
    {
     "data": {
      "text/plain": [
       "array([[False, False, False, False, False],\n",
       "       [False, False, False, False, False],\n",
       "       [False,  True,  True,  True,  True]])"
      ]
     },
     "execution_count": 80,
     "metadata": {},
     "output_type": "execute_result"
    },
    {
     "name": "stdout",
     "output_type": "stream",
     "text": [
      "是否存在大于 10 的数值：True\n",
      "是否所有的数值都大于 10 ：False\n"
     ]
    }
   ],
   "source": [
    "arr > 10\n",
    "\n",
    "print(f\"是否存在大于 10 的数值：{(arr > 10).any()}\")\n",
    "\n",
    "print(f\"是否所有的数值都大于 10 ：{(arr > 10).all()}\")\n"
   ]
  },
  {
   "cell_type": "code",
   "execution_count": 82,
   "id": "b4d4bc0c",
   "metadata": {
    "scrolled": true
   },
   "outputs": [
    {
     "data": {
      "text/plain": [
       "array([[False, False, False, False, False],\n",
       "       [False, False, False, False, False],\n",
       "       [False,  True,  True,  True,  True]])"
      ]
     },
     "execution_count": 82,
     "metadata": {},
     "output_type": "execute_result"
    },
    {
     "name": "stdout",
     "output_type": "stream",
     "text": [
      "是否存在大于 10 的数值：True\n",
      "是否所有的数值都大于 10 ：False\n"
     ]
    }
   ],
   "source": [
    "arr > 10\n",
    "\n",
    "print(f\"是否存在大于 10 的数值：{np.any(arr > 10)}\")\n",
    "\n",
    "print(f\"是否所有的数值都大于 10 ：{np.all(arr > 10)}\")\n"
   ]
  },
  {
   "cell_type": "markdown",
   "id": "75dabbd1",
   "metadata": {},
   "source": [
    "### 排序"
   ]
  },
  {
   "cell_type": "markdown",
   "id": "d38f3034",
   "metadata": {},
   "source": [
    "和Python的内建列表类型相似，NumPy 数组可以使用 `sort` 方法按位置排序\n",
    "\n",
    "使用 `sort` 是在原地排序"
   ]
  },
  {
   "cell_type": "code",
   "execution_count": 83,
   "id": "6d737153",
   "metadata": {},
   "outputs": [
    {
     "data": {
      "text/plain": [
       "array([-0.42855067,  0.00918091, -2.07289645,  1.12199359, -0.43193947,\n",
       "        0.50803565])"
      ]
     },
     "execution_count": 83,
     "metadata": {},
     "output_type": "execute_result"
    },
    {
     "data": {
      "text/plain": [
       "array([-2.07289645, -0.43193947, -0.42855067,  0.00918091,  0.50803565,\n",
       "        1.12199359])"
      ]
     },
     "execution_count": 83,
     "metadata": {},
     "output_type": "execute_result"
    }
   ],
   "source": [
    "arr = np.random.randn(6)\n",
    "arr\n",
    "\n",
    "arr.sort()\n",
    "arr\n"
   ]
  },
  {
   "cell_type": "markdown",
   "id": "17c8d3b8",
   "metadata": {},
   "source": [
    "在多维数组中根据传递的 `axis` 值，沿着轴向对每个一维数据段进行排序"
   ]
  },
  {
   "cell_type": "code",
   "execution_count": 86,
   "id": "6df65d48",
   "metadata": {},
   "outputs": [
    {
     "data": {
      "text/plain": [
       "array([[1, 4],\n",
       "       [3, 1]])"
      ]
     },
     "execution_count": 86,
     "metadata": {},
     "output_type": "execute_result"
    },
    {
     "data": {
      "text/plain": [
       "array([[1, 4],\n",
       "       [1, 3]])"
      ]
     },
     "execution_count": 86,
     "metadata": {},
     "output_type": "execute_result"
    },
    {
     "data": {
      "text/plain": [
       "array([[1, 3],\n",
       "       [1, 4]])"
      ]
     },
     "execution_count": 86,
     "metadata": {},
     "output_type": "execute_result"
    }
   ],
   "source": [
    "arr = np.array([[1,4], [3,1]])\n",
    "arr\n",
    "\n",
    "arr.sort(axis=1)\n",
    "arr\n",
    "\n",
    "arr.sort(axis=0)\n",
    "arr"
   ]
  },
  {
   "cell_type": "markdown",
   "id": "a63089af",
   "metadata": {},
   "source": [
    "顶层的 `np.sort` 方法返回的是已经排序好的数组拷贝，而 **不是对原数组按位置排序**。"
   ]
  },
  {
   "cell_type": "code",
   "execution_count": 93,
   "id": "9a6a3394",
   "metadata": {},
   "outputs": [
    {
     "data": {
      "text/plain": [
       "array([[1, 4],\n",
       "       [3, 1]])"
      ]
     },
     "execution_count": 93,
     "metadata": {},
     "output_type": "execute_result"
    },
    {
     "data": {
      "text/plain": [
       "array([[1, 4],\n",
       "       [1, 3]])"
      ]
     },
     "execution_count": 93,
     "metadata": {},
     "output_type": "execute_result"
    },
    {
     "data": {
      "text/plain": [
       "array([[1, 4],\n",
       "       [3, 1]])"
      ]
     },
     "execution_count": 93,
     "metadata": {},
     "output_type": "execute_result"
    }
   ],
   "source": [
    "arr = np.array([[1,4], [3,1]])\n",
    "arr\n",
    "\n",
    "np.sort(arr, axis=1)\n",
    "\n",
    "arr"
   ]
  },
  {
   "cell_type": "markdown",
   "id": "c461b1be",
   "metadata": {},
   "source": [
    "### 唯一值与其他集合逻辑"
   ]
  },
  {
   "cell_type": "markdown",
   "id": "5e4c48c7",
   "metadata": {},
   "source": [
    "NumPy包含一些针对一维ndarray的 **基础集合操作**。\n",
    "\n",
    "常用的一个方法是 `np.unique`，返回的是数组中 **唯一值排序后** 形成的数组："
   ]
  },
  {
   "cell_type": "code",
   "execution_count": 94,
   "id": "3281662b",
   "metadata": {},
   "outputs": [
    {
     "data": {
      "text/plain": [
       "array(['Bob', 'Joe', 'Will', 'Bob', 'Will', 'Joe', 'Joe'], dtype='<U4')"
      ]
     },
     "execution_count": 94,
     "metadata": {},
     "output_type": "execute_result"
    },
    {
     "data": {
      "text/plain": [
       "array(['Bob', 'Joe', 'Will'], dtype='<U4')"
      ]
     },
     "execution_count": 94,
     "metadata": {},
     "output_type": "execute_result"
    }
   ],
   "source": [
    "names =np.array(['Bob', 'Joe', 'Will', 'Bob', 'Will', 'Joe', 'Joe'])\n",
    "names\n",
    "\n",
    "np.unique(names)"
   ]
  },
  {
   "cell_type": "code",
   "execution_count": 95,
   "id": "1007abc6",
   "metadata": {},
   "outputs": [
    {
     "data": {
      "text/plain": [
       "array([3, 3, 3, 2, 2, 1, 1, 4, 4])"
      ]
     },
     "execution_count": 95,
     "metadata": {},
     "output_type": "execute_result"
    },
    {
     "data": {
      "text/plain": [
       "array([1, 2, 3, 4])"
      ]
     },
     "execution_count": 95,
     "metadata": {},
     "output_type": "execute_result"
    }
   ],
   "source": [
    "ints = np.array([3, 3, 3, 2, 2, 1, 1, 4, 4])\n",
    "ints\n",
    "\n",
    "np.unique(ints)"
   ]
  },
  {
   "cell_type": "markdown",
   "id": "85f92e16",
   "metadata": {},
   "source": [
    "**NumPy中集合函数的列表**\n",
    "\n",
    "* `unique(x)`： 计算x的唯一值,并排序\n",
    "* `intersect1d(x, y)`： 计算x和y的交集,并排序\n",
    "* `union1d(x, y)`： 计算x和y的并集,并排序\n",
    "* `in1d(x, y)`： 计算x中的元素是否包含在y中,返回一个布尔值数组\n",
    "* `setdiff1d(x, y)`： 差集,在x中但不在y中的x的元素\n",
    "* `setxor1d(x, y)`： 异或集,在x或y中,但不属于x、y交集的元素"
   ]
  },
  {
   "cell_type": "code",
   "execution_count": null,
   "id": "5e82cc29",
   "metadata": {},
   "outputs": [],
   "source": []
  },
  {
   "cell_type": "markdown",
   "id": "20759471",
   "metadata": {},
   "source": [
    "## 示例：随机漫步"
   ]
  },
  {
   "cell_type": "markdown",
   "id": "72d531c0",
   "metadata": {},
   "source": [
    "### 用 Python 实现"
   ]
  },
  {
   "cell_type": "code",
   "execution_count": 96,
   "id": "58dbbadd",
   "metadata": {},
   "outputs": [],
   "source": [
    "import random\n",
    "from matplotlib import pyplot as plt\n"
   ]
  },
  {
   "cell_type": "code",
   "execution_count": 98,
   "id": "be3e5150",
   "metadata": {},
   "outputs": [
    {
     "data": {
      "text/plain": [
       "[<matplotlib.lines.Line2D at 0x1e957ae0e48>]"
      ]
     },
     "execution_count": 98,
     "metadata": {},
     "output_type": "execute_result"
    },
    {
     "data": {
      "image/png": "[encoded data removed]",
      "text/plain": [
       "<Figure size 432x288 with 1 Axes>"
      ]
     },
     "metadata": {
      "needs_background": "light"
     },
     "output_type": "display_data"
    }
   ],
   "source": [
    "position = 0\n",
    "walk = []\n",
    "steps = 1000\n",
    "\n",
    "for i in range(steps):\n",
    "    step = 1 if random.randint(0, 1) else -1\n",
    "    position += step\n",
    "    walk.append(position)\n",
    "    \n",
    "plt.plot(walk[:100])"
   ]
  },
  {
   "cell_type": "code",
   "execution_count": null,
   "id": "d31e0bd4",
   "metadata": {},
   "outputs": [],
   "source": []
  }
 ],
 "metadata": {
  "kernelspec": {
   "display_name": "Python [conda env:Anaconda3-competion] *",
   "language": "python",
   "name": "conda-env-Anaconda3-competion-py"
  },
  "language_info": {
   "codemirror_mode": {
    "name": "ipython",
    "version": 3
   },
   "file_extension": ".py",
   "mimetype": "text/x-python",
   "name": "python",
   "nbconvert_exporter": "python",
   "pygments_lexer": "ipython3",
   "version": "3.7.6"
  },
  "toc": {
   "base_numbering": 1,
   "nav_menu": {},
   "number_sections": true,
   "sideBar": true,
   "skip_h1_title": true,
   "title_cell": "Table of Contents",
   "title_sidebar": "Contents",
   "toc_cell": false,
   "toc_position": {},
   "toc_section_display": true,
   "toc_window_display": true
  }
 },
 "nbformat": 4,
 "nbformat_minor": 5
}
